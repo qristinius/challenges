{
 "cells": [
  {
   "cell_type": "code",
   "execution_count": 7,
   "id": "initial_id",
   "metadata": {
    "collapsed": true,
    "ExecuteTime": {
     "end_time": "2024-05-31T11:56:12.813487900Z",
     "start_time": "2024-05-31T11:56:12.797767100Z"
    }
   },
   "outputs": [],
   "source": [
    "import numpy as np"
   ]
  },
  {
   "cell_type": "code",
   "outputs": [
    {
     "name": "stdout",
     "output_type": "stream",
     "text": [
      "233168\n"
     ]
    }
   ],
   "source": [
    "#euler project\n",
    "#project N1\n",
    "\n",
    "num =  0 #variable where I save the added numbers\n",
    "\n",
    "#logics for adding specific numbers to variable \n",
    "for i in range(1000):\n",
    "    if i % 3 == 0 or i % 5 ==0:\n",
    "        num += i   #adding and saving chosen numbers to variable \n",
    "\n",
    "print(num)\n"
   ],
   "metadata": {
    "collapsed": false
   },
   "id": "121bb3c391ddc63f",
   "execution_count": 8
  },
  {
   "cell_type": "markdown",
   "source": [
    "# Problem 1\n",
    "## Multiples of 3 or 5"
   ],
   "metadata": {
    "collapsed": false
   },
   "id": "767ad3e141e17129"
  },
  {
   "cell_type": "code",
   "outputs": [
    {
     "data": {
      "text/plain": "233168"
     },
     "execution_count": 17,
     "metadata": {},
     "output_type": "execute_result"
    }
   ],
   "source": [
    "def SumOfMultiples(startingpoint = 1, endingpoint = 1000, multiplier1 = 3, multiplier2 = 5 ):\n",
    "    \"\"\"\n",
    "    Finding sum of multiples of 3 or 5\n",
    "\n",
    "    Args:\n",
    "    startingpoint (int) : starting point of the range we are searching sum \n",
    "    endingpoint (int) : ending point of the range we are searching sum \n",
    "    multiplier1 (int) : first multiplier\n",
    "    multiplier2 (int) : second multiplier\n",
    "    \n",
    "    \"\"\"\n",
    "    \n",
    "    # creating matrix with numbers \n",
    "    matrix = np.arange(startingpoint, endingpoint)\n",
    "    \n",
    "    # filter\n",
    "    mask = (matrix % multiplier1 == 0) | (matrix % multiplier2 == 0)\n",
    "    \n",
    "    # returning filtered matrix sum, firstly converting it in list to avoid overloading numpy\n",
    "    return sum(matrix[mask].tolist())\n",
    "\n",
    "SumOfMultiples(1,1000,3,5)"
   ],
   "metadata": {
    "collapsed": false,
    "ExecuteTime": {
     "end_time": "2024-05-31T12:00:22.292132200Z",
     "start_time": "2024-05-31T12:00:22.277890700Z"
    }
   },
   "id": "36bca6231f6a65dd",
   "execution_count": 17
  },
  {
   "cell_type": "markdown",
   "source": [
    "# Problem 2\n",
    "## Even Fibonacci Numbers"
   ],
   "metadata": {
    "collapsed": false
   },
   "id": "d13991893fb9bc27"
  },
  {
   "cell_type": "code",
   "outputs": [
    {
     "data": {
      "text/plain": "4613732"
     },
     "execution_count": 20,
     "metadata": {},
     "output_type": "execute_result"
    }
   ],
   "source": [
    "def EvenFibonacci(n=4_000_000):\n",
    "    \"\"\"\n",
    "    Finding sum of even fibonacci numbers with upper boundary\n",
    "    \n",
    "    Args:\n",
    "    n (int) : upper boundary\n",
    "\n",
    "    \"\"\"\n",
    "\n",
    "\n",
    "    # list with first two items of fibonacci numbers\n",
    "    fib = [0,1]\n",
    "    \n",
    "    \n",
    "    # while the last number is less than the upper boundary it will continue adding to list\n",
    "    while fib[-1] +fib[-2] < n:\n",
    "        fib.append(fib[-1] + fib[-2])\n",
    "    \n",
    "    # transforming it into array\n",
    "    fibonaccy_array = np.array(fib)\n",
    "    \n",
    "    # create filter to get even numbers\n",
    "    mask = (fibonaccy_array % 2 == 0)\n",
    "    \n",
    "    # returning sum of even fibonacci numbers \n",
    "    return sum(fibonaccy_array[mask].tolist())\n",
    "\n",
    "EvenFibonacci()"
   ],
   "metadata": {
    "collapsed": false,
    "ExecuteTime": {
     "end_time": "2024-05-31T12:15:16.659650500Z",
     "start_time": "2024-05-31T12:15:16.648688600Z"
    }
   },
   "id": "95e0d4760c0c1d0c",
   "execution_count": 20
  },
  {
   "cell_type": "markdown",
   "source": [
    "# Euler 4\n",
    "## Largest Palindrome Product"
   ],
   "metadata": {
    "collapsed": false
   },
   "id": "99f716b95979576d"
  },
  {
   "cell_type": "code",
   "outputs": [
    {
     "data": {
      "text/plain": "906609"
     },
     "execution_count": 32,
     "metadata": {},
     "output_type": "execute_result"
    }
   ],
   "source": [
    "def MaxPalindromes(start=100, end=1000):\n",
    "    \"\"\"\n",
    "    Finding Maximum Palindrome from specific range \n",
    "    \n",
    "    Args:\n",
    "    start (int) : lower boundary \n",
    "    end (int) : upper boundary\n",
    "\n",
    "    \"\"\"\n",
    "    \n",
    "    # empty list\n",
    "    palindromes = []\n",
    "    \n",
    "    # finding palinderomes in range and appending it to list \n",
    "    for i in range(start,end):\n",
    "        for j in range(start,end):\n",
    "            if str(i*j) == str(i*j)[::-1]:\n",
    "                palindromes.append(i*j)\n",
    "    \n",
    "    # returning max value of it \n",
    "    return max(palindromes)\n",
    "\n",
    "MaxPalindromes()"
   ],
   "metadata": {
    "collapsed": false,
    "ExecuteTime": {
     "end_time": "2024-05-31T12:37:22.232181400Z",
     "start_time": "2024-05-31T12:37:21.987117400Z"
    }
   },
   "id": "a745269e53dd9fd",
   "execution_count": 32
  },
  {
   "cell_type": "markdown",
   "source": [
    "# Problem 6\n",
    "## Sum Square Difference"
   ],
   "metadata": {
    "collapsed": false
   },
   "id": "a2991f3cce6fe81f"
  },
  {
   "cell_type": "code",
   "outputs": [
    {
     "data": {
      "text/plain": "25164150"
     },
     "execution_count": 28,
     "metadata": {},
     "output_type": "execute_result"
    }
   ],
   "source": [
    "def SumSquareDiff(range_arr=[1,101]):\n",
    "    \"\"\"\n",
    "    Finding Substraction of sum of squared array items and square of summed items\n",
    "    \n",
    "    Args:\n",
    "    range_arr (list) : list containging 2 items firts is lower boundary of range and second is upper boundary on range\n",
    "\n",
    "    \"\"\" \n",
    "    # arranging array\n",
    "    arr = np.arange(range_arr[0], range_arr[1])\n",
    "    \n",
    "    # returning the value\n",
    "    return (sum(arr.tolist())**2) - sum((arr**2).tolist())\n",
    "\n",
    "SumSquareDiff()"
   ],
   "metadata": {
    "collapsed": false,
    "ExecuteTime": {
     "end_time": "2024-05-31T12:31:53.030409600Z",
     "start_time": "2024-05-31T12:31:53.007510800Z"
    }
   },
   "id": "7857e60e9331fd",
   "execution_count": 28
  },
  {
   "cell_type": "markdown",
   "source": [
    "# Problem 8\n",
    "## Largest Product in a Series\n",
    "## not done\n"
   ],
   "metadata": {
    "collapsed": false
   },
   "id": "519a4ee2ccaa37b9"
  },
  {
   "cell_type": "code",
   "outputs": [],
   "source": [],
   "metadata": {
    "collapsed": false
   },
   "id": "5d906a22a49eeeee"
  },
  {
   "cell_type": "markdown",
   "source": [
    "# Problem 16\n",
    "## Power Digit Sum"
   ],
   "metadata": {
    "collapsed": false
   },
   "id": "2635ab076e5d2144"
  },
  {
   "cell_type": "code",
   "outputs": [
    {
     "name": "stdout",
     "output_type": "stream",
     "text": [
      "The sum of powered number digits is: 1366\n"
     ]
    }
   ],
   "source": [
    "def PowSum(num,power):\n",
    "    \"\"\"\n",
    "    Powering the number and summing up each digits of result number\n",
    "\n",
    "    Args:\n",
    "        num (int) : number that should get powered\n",
    "        power (int) : power of number\n",
    "    \"\"\"\n",
    "    \n",
    "    print(f'The sum of powered number digits is: {sum([int(digit) for digit in str(num**power)])}')\n",
    "\n",
    "PowSum(2,1000)\n",
    "    "
   ],
   "metadata": {
    "collapsed": false,
    "ExecuteTime": {
     "end_time": "2024-05-31T12:50:34.685804500Z",
     "start_time": "2024-05-31T12:50:34.638906100Z"
    }
   },
   "id": "6290d16703ea833f",
   "execution_count": 34
  },
  {
   "cell_type": "code",
   "outputs": [],
   "source": [],
   "metadata": {
    "collapsed": false
   },
   "id": "d041d669fe5fb578"
  }
 ],
 "metadata": {
  "kernelspec": {
   "display_name": "Python 3",
   "language": "python",
   "name": "python3"
  },
  "language_info": {
   "codemirror_mode": {
    "name": "ipython",
    "version": 2
   },
   "file_extension": ".py",
   "mimetype": "text/x-python",
   "name": "python",
   "nbconvert_exporter": "python",
   "pygments_lexer": "ipython2",
   "version": "2.7.6"
  }
 },
 "nbformat": 4,
 "nbformat_minor": 5
}
