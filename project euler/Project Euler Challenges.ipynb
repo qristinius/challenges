{
 "cells": [
  {
   "cell_type": "code",
   "execution_count": 1,
   "id": "initial_id",
   "metadata": {
    "collapsed": true,
    "ExecuteTime": {
     "end_time": "2024-06-05T06:34:05.241917100Z",
     "start_time": "2024-06-05T06:34:05.133384800Z"
    }
   },
   "outputs": [],
   "source": [
    "import numpy as np"
   ]
  },
  {
   "cell_type": "code",
   "outputs": [
    {
     "name": "stdout",
     "output_type": "stream",
     "text": [
      "233168\n"
     ]
    }
   ],
   "source": [
    "#euler project\n",
    "#project N1\n",
    "\n",
    "num =  0 #variable where I save the added numbers\n",
    "\n",
    "#logics for adding specific numbers to variable \n",
    "for i in range(1000):\n",
    "    if i % 3 == 0 or i % 5 ==0:\n",
    "        num += i   #adding and saving chosen numbers to variable \n",
    "\n",
    "print(num)\n"
   ],
   "metadata": {
    "collapsed": false,
    "ExecuteTime": {
     "end_time": "2024-06-05T06:34:05.255870300Z",
     "start_time": "2024-06-05T06:34:05.247917700Z"
    }
   },
   "id": "121bb3c391ddc63f",
   "execution_count": 2
  },
  {
   "cell_type": "markdown",
   "source": [
    "# Problem 1\n",
    "## Multiples of 3 or 5"
   ],
   "metadata": {
    "collapsed": false
   },
   "id": "767ad3e141e17129"
  },
  {
   "cell_type": "code",
   "outputs": [
    {
     "data": {
      "text/plain": "233168"
     },
     "execution_count": 3,
     "metadata": {},
     "output_type": "execute_result"
    }
   ],
   "source": [
    "def SumOfMultiples(startingpoint = 1, endingpoint = 1000, multiplier1 = 3, multiplier2 = 5 ):\n",
    "    \"\"\"\n",
    "    Finding sum of multiples of 3 or 5\n",
    "\n",
    "    Args:\n",
    "    startingpoint (int) : starting point of the range we are searching sum \n",
    "    endingpoint (int) : ending point of the range we are searching sum \n",
    "    multiplier1 (int) : first multiplier\n",
    "    multiplier2 (int) : second multiplier\n",
    "    \n",
    "    \"\"\"\n",
    "    \n",
    "    # creating matrix with numbers \n",
    "    matrix = np.arange(startingpoint, endingpoint)\n",
    "    \n",
    "    # filter\n",
    "    mask = (matrix % multiplier1 == 0) | (matrix % multiplier2 == 0)\n",
    "    \n",
    "    # returning filtered matrix sum, firstly converting it in list to avoid overloading numpy\n",
    "    return sum(matrix[mask].tolist())\n",
    "\n",
    "SumOfMultiples(1,1000,3,5)"
   ],
   "metadata": {
    "collapsed": false,
    "ExecuteTime": {
     "end_time": "2024-06-05T06:34:05.330966800Z",
     "start_time": "2024-06-05T06:34:05.257872700Z"
    }
   },
   "id": "36bca6231f6a65dd",
   "execution_count": 3
  },
  {
   "cell_type": "markdown",
   "source": [
    "# Problem 2\n",
    "## Even Fibonacci Numbers"
   ],
   "metadata": {
    "collapsed": false
   },
   "id": "d13991893fb9bc27"
  },
  {
   "cell_type": "code",
   "outputs": [
    {
     "data": {
      "text/plain": "4613732"
     },
     "execution_count": 4,
     "metadata": {},
     "output_type": "execute_result"
    }
   ],
   "source": [
    "def EvenFibonacci(n=4_000_000):\n",
    "    \"\"\"\n",
    "    Finding sum of even fibonacci numbers with upper boundary\n",
    "    \n",
    "    Args:\n",
    "    n (int) : upper boundary\n",
    "\n",
    "    \"\"\"\n",
    "\n",
    "\n",
    "    # list with first two items of fibonacci numbers\n",
    "    fib = [0,1]\n",
    "    \n",
    "    \n",
    "    # while the last number is less than the upper boundary it will continue adding to list\n",
    "    while fib[-1] +fib[-2] < n:\n",
    "        fib.append(fib[-1] + fib[-2])\n",
    "    \n",
    "    # transforming it into array\n",
    "    fibonaccy_array = np.array(fib)\n",
    "    \n",
    "    # create filter to get even numbers\n",
    "    mask = (fibonaccy_array % 2 == 0)\n",
    "    \n",
    "    # returning sum of even fibonacci numbers \n",
    "    return sum(fibonaccy_array[mask].tolist())\n",
    "\n",
    "EvenFibonacci()"
   ],
   "metadata": {
    "collapsed": false,
    "ExecuteTime": {
     "end_time": "2024-06-05T06:34:05.332055300Z",
     "start_time": "2024-06-05T06:34:05.270863100Z"
    }
   },
   "id": "95e0d4760c0c1d0c",
   "execution_count": 4
  },
  {
   "cell_type": "markdown",
   "source": [
    "# Problem 3\n",
    "## Largest Prime Factor"
   ],
   "metadata": {
    "collapsed": false
   },
   "id": "292c4ddd707abf2"
  },
  {
   "cell_type": "code",
   "outputs": [
    {
     "name": "stdout",
     "output_type": "stream",
     "text": [
      "6857\n"
     ]
    }
   ],
   "source": [
    "# the number that I want the prime factors of \n",
    "num = 600851475143\n",
    "\n",
    "# empty list that I want to add prime factors \n",
    "factors_of_num = []\n",
    "\n",
    "#logics for adding info in list\n",
    "while True:\n",
    "    # the action happens in range of 2 and the presented number \n",
    "    for i in range (2,int(num)+1): \n",
    "        if num % i == 0 :\n",
    "            # appends the list the number that is factor of the presented number\n",
    "            factors_of_num.append(i)\n",
    "            # divide the previous number on it's factor and rewrite it in \"num\" variable \n",
    "            num = num/i\n",
    "            # breaks the for cycle and restarts for new divided number form first i to up \n",
    "            break \n",
    "    if num == 1:\n",
    "        # when the lastly divided numbers is equal to 1 the while loop cycle breaks\n",
    "        break     \n",
    "\n",
    "print(max(factors_of_num))"
   ],
   "metadata": {
    "collapsed": false,
    "ExecuteTime": {
     "end_time": "2024-06-05T07:08:14.992164Z",
     "start_time": "2024-06-05T07:08:14.982615400Z"
    }
   },
   "id": "2ade7dd7aab70bb",
   "execution_count": 48
  },
  {
   "cell_type": "markdown",
   "source": [
    "# Problem 4\n",
    "## Largest Palindrome Product"
   ],
   "metadata": {
    "collapsed": false
   },
   "id": "99f716b95979576d"
  },
  {
   "cell_type": "code",
   "outputs": [
    {
     "data": {
      "text/plain": "906609"
     },
     "execution_count": 5,
     "metadata": {},
     "output_type": "execute_result"
    }
   ],
   "source": [
    "def MaxPalindromes(start=100, end=1000):\n",
    "    \"\"\"\n",
    "    Finding Maximum Palindrome from specific range \n",
    "    \n",
    "    Args:\n",
    "    start (int) : lower boundary \n",
    "    end (int) : upper boundary\n",
    "\n",
    "    \"\"\"\n",
    "    \n",
    "    # empty list\n",
    "    palindromes = []\n",
    "    \n",
    "    # finding palinderomes in range and appending it to list \n",
    "    for i in range(start,end):\n",
    "        for j in range(start,end):\n",
    "            if str(i*j) == str(i*j)[::-1]:\n",
    "                palindromes.append(i*j)\n",
    "    \n",
    "    # returning max value of it \n",
    "    return max(palindromes)\n",
    "\n",
    "MaxPalindromes()"
   ],
   "metadata": {
    "collapsed": false,
    "ExecuteTime": {
     "end_time": "2024-06-05T06:34:05.488815900Z",
     "start_time": "2024-06-05T06:34:05.289417200Z"
    }
   },
   "id": "a745269e53dd9fd",
   "execution_count": 5
  },
  {
   "cell_type": "markdown",
   "source": [
    "# Problem 5\n",
    "## Smallest Multiple"
   ],
   "metadata": {
    "collapsed": false
   },
   "id": "8866965183e1b9f5"
  },
  {
   "cell_type": "code",
   "outputs": [
    {
     "name": "stdout",
     "output_type": "stream",
     "text": [
      "232792560\n"
     ]
    }
   ],
   "source": [
    "def Divisible(num):        #checks if it is divisible or not and reutrs bool\n",
    "    for i in range(1,21):\n",
    "        if num%i != 0:\n",
    "            return False\n",
    "    return True\n",
    "\n",
    "num = 1\n",
    "while True:\n",
    "    if Divisible(num):  #it stops when 1st division occurs so it's gonna be the smallest\n",
    "        break\n",
    "    num+=1   #or it colntinues looping\n",
    "\n",
    "print(num)"
   ],
   "metadata": {
    "collapsed": false,
    "ExecuteTime": {
     "end_time": "2024-06-05T08:32:55.793754200Z",
     "start_time": "2024-06-05T08:31:02.271832Z"
    }
   },
   "id": "c3a2869507418649",
   "execution_count": 60
  },
  {
   "cell_type": "code",
   "outputs": [
    {
     "data": {
      "text/plain": "[1,\n 2,\n 3,\n 4,\n 5,\n 6,\n 7,\n 8,\n 9,\n 10,\n 11,\n 12,\n 13,\n 14,\n 15,\n 16,\n 17,\n 18,\n 19,\n 20,\n 2,\n 4,\n 6,\n 8,\n 10,\n 12,\n 14,\n 16,\n 18,\n 20,\n 22,\n 24,\n 26,\n 28,\n 30,\n 32,\n 34,\n 36,\n 38,\n 40,\n 3,\n 6,\n 9,\n 12,\n 15,\n 18,\n 21,\n 24,\n 27,\n 30,\n 33,\n 36,\n 39,\n 42,\n 45,\n 48,\n 51,\n 54,\n 57,\n 60,\n 4,\n 8,\n 12,\n 16,\n 20,\n 24,\n 28,\n 32,\n 36,\n 40,\n 44,\n 48,\n 52,\n 56,\n 60,\n 64,\n 68,\n 72,\n 76,\n 80,\n 5,\n 10,\n 15,\n 20,\n 25,\n 30,\n 35,\n 40,\n 45,\n 50,\n 55,\n 60,\n 65,\n 70,\n 75,\n 80,\n 85,\n 90,\n 95,\n 100,\n 6,\n 12,\n 18,\n 24,\n 30,\n 36,\n 42,\n 48,\n 54,\n 60,\n 66,\n 72,\n 78,\n 84,\n 90,\n 96,\n 102,\n 108,\n 114,\n 120,\n 7,\n 14,\n 21,\n 28,\n 35,\n 42,\n 49,\n 56,\n 63,\n 70,\n 77,\n 84,\n 91,\n 98,\n 105,\n 112,\n 119,\n 126,\n 133,\n 140,\n 8,\n 16,\n 24,\n 32,\n 40,\n 48,\n 56,\n 64,\n 72,\n 80,\n 88,\n 96,\n 104,\n 112,\n 120,\n 128,\n 136,\n 144,\n 152,\n 160,\n 9,\n 18,\n 27,\n 36,\n 45,\n 54,\n 63,\n 72,\n 81,\n 90,\n 99,\n 108,\n 117,\n 126,\n 135,\n 144,\n 153,\n 162,\n 171,\n 180,\n 10,\n 20,\n 30,\n 40,\n 50,\n 60,\n 70,\n 80,\n 90,\n 100,\n 110,\n 120,\n 130,\n 140,\n 150,\n 160,\n 170,\n 180,\n 190,\n 200,\n 11,\n 22,\n 33,\n 44,\n 55,\n 66,\n 77,\n 88,\n 99,\n 110,\n 121,\n 132,\n 143,\n 154,\n 165,\n 176,\n 187,\n 198,\n 209,\n 220,\n 12,\n 24,\n 36,\n 48,\n 60,\n 72,\n 84,\n 96,\n 108,\n 120,\n 132,\n 144,\n 156,\n 168,\n 180,\n 192,\n 204,\n 216,\n 228,\n 240,\n 13,\n 26,\n 39,\n 52,\n 65,\n 78,\n 91,\n 104,\n 117,\n 130,\n 143,\n 156,\n 169,\n 182,\n 195,\n 208,\n 221,\n 234,\n 247,\n 260,\n 14,\n 28,\n 42,\n 56,\n 70,\n 84,\n 98,\n 112,\n 126,\n 140,\n 154,\n 168,\n 182,\n 196,\n 210,\n 224,\n 238,\n 252,\n 266,\n 280,\n 15,\n 30,\n 45,\n 60,\n 75,\n 90,\n 105,\n 120,\n 135,\n 150,\n 165,\n 180,\n 195,\n 210,\n 225,\n 240,\n 255,\n 270,\n 285,\n 300,\n 16,\n 32,\n 48,\n 64,\n 80,\n 96,\n 112,\n 128,\n 144,\n 160,\n 176,\n 192,\n 208,\n 224,\n 240,\n 256,\n 272,\n 288,\n 304,\n 320,\n 17,\n 34,\n 51,\n 68,\n 85,\n 102,\n 119,\n 136,\n 153,\n 170,\n 187,\n 204,\n 221,\n 238,\n 255,\n 272,\n 289,\n 306,\n 323,\n 340,\n 18,\n 36,\n 54,\n 72,\n 90,\n 108,\n 126,\n 144,\n 162,\n 180,\n 198,\n 216,\n 234,\n 252,\n 270,\n 288,\n 306,\n 324,\n 342,\n 360,\n 19,\n 38,\n 57,\n 76,\n 95,\n 114,\n 133,\n 152,\n 171,\n 190,\n 209,\n 228,\n 247,\n 266,\n 285,\n 304,\n 323,\n 342,\n 361,\n 380,\n 20,\n 40,\n 60,\n 80,\n 100,\n 120,\n 140,\n 160,\n 180,\n 200,\n 220,\n 240,\n 260,\n 280,\n 300,\n 320,\n 340,\n 360,\n 380,\n 400]"
     },
     "execution_count": 9,
     "metadata": {},
     "output_type": "execute_result"
    }
   ],
   "source": [],
   "metadata": {
    "collapsed": false,
    "ExecuteTime": {
     "end_time": "2024-06-05T08:45:07.843778100Z",
     "start_time": "2024-06-05T08:45:07.803198300Z"
    }
   },
   "id": "ae1126a7c72b3167",
   "execution_count": 9
  },
  {
   "cell_type": "markdown",
   "source": [
    "# Problem 6\n",
    "## Sum Square Difference"
   ],
   "metadata": {
    "collapsed": false
   },
   "id": "a2991f3cce6fe81f"
  },
  {
   "cell_type": "code",
   "outputs": [
    {
     "data": {
      "text/plain": "25164150"
     },
     "execution_count": 6,
     "metadata": {},
     "output_type": "execute_result"
    }
   ],
   "source": [
    "def SumSquareDiff(range_arr=[1,101]):\n",
    "    \"\"\"\n",
    "    Finding Substraction of sum of squared array items and square of summed items\n",
    "    \n",
    "    Args:\n",
    "    range_arr (list) : list containging 2 items firts is lower boundary of range and second is upper boundary on range\n",
    "\n",
    "    \"\"\" \n",
    "    # arranging array\n",
    "    arr = np.arange(range_arr[0], range_arr[1])\n",
    "    \n",
    "    # returning the value\n",
    "    return (sum(arr.tolist())**2) - sum((arr**2).tolist())\n",
    "\n",
    "SumSquareDiff()"
   ],
   "metadata": {
    "collapsed": false,
    "ExecuteTime": {
     "end_time": "2024-06-05T06:34:05.500251600Z",
     "start_time": "2024-06-05T06:34:05.487815400Z"
    }
   },
   "id": "7857e60e9331fd",
   "execution_count": 6
  },
  {
   "cell_type": "markdown",
   "source": [
    "# Problem 8\n",
    "## Largest Product in a Series\n",
    "## not done\n"
   ],
   "metadata": {
    "collapsed": false
   },
   "id": "519a4ee2ccaa37b9"
  },
  {
   "cell_type": "code",
   "outputs": [],
   "source": [],
   "metadata": {
    "collapsed": false,
    "ExecuteTime": {
     "end_time": "2024-06-05T06:34:05.501246700Z",
     "start_time": "2024-06-05T06:34:05.496264600Z"
    }
   },
   "id": "5d906a22a49eeeee",
   "execution_count": 6
  },
  {
   "cell_type": "markdown",
   "source": [
    "# Problem 16\n",
    "## Power Digit Sum"
   ],
   "metadata": {
    "collapsed": false
   },
   "id": "2635ab076e5d2144"
  },
  {
   "cell_type": "code",
   "outputs": [
    {
     "name": "stdout",
     "output_type": "stream",
     "text": [
      "The sum of powered number digits is: 1366\n"
     ]
    }
   ],
   "source": [
    "def PowSum(num,power):\n",
    "    \"\"\"\n",
    "    Powering the number and summing up each digits of result number\n",
    "\n",
    "    Args:\n",
    "        num (int) : number that should get powered\n",
    "        power (int) : power of number\n",
    "    \"\"\"\n",
    "    \n",
    "    print(f'The sum of powered number digits is: {sum([int(digit) for digit in str(num**power)])}')\n",
    "\n",
    "PowSum(2,1000)\n",
    "    "
   ],
   "metadata": {
    "collapsed": false,
    "ExecuteTime": {
     "end_time": "2024-06-05T06:34:05.515539300Z",
     "start_time": "2024-06-05T06:34:05.504248Z"
    }
   },
   "id": "6290d16703ea833f",
   "execution_count": 7
  },
  {
   "cell_type": "markdown",
   "source": [
    "# Problem 25\n",
    "## 1000-digit Fibonacci Number"
   ],
   "metadata": {
    "collapsed": false
   },
   "id": "71bb85c7e5891794"
  },
  {
   "cell_type": "code",
   "outputs": [
    {
     "name": "stdout",
     "output_type": "stream",
     "text": [
      "Index of 1000 digits number:4782\n"
     ]
    }
   ],
   "source": [
    "fib = [1,1]\n",
    "# while the length of the last number of fibonacci sequence is 1000 the loop continues and we find the index of it \n",
    "while len(str(fib[-1]))!=1000:\n",
    "    fib.append(fib[-1] + fib[-2])\n",
    "\n",
    "print(f'Index of 1000 digits number:{len(fib)}')\n"
   ],
   "metadata": {
    "collapsed": false,
    "ExecuteTime": {
     "end_time": "2024-06-05T06:54:36.386139400Z",
     "start_time": "2024-06-05T06:54:36.349251200Z"
    }
   },
   "id": "c25f61d4f0f22a06",
   "execution_count": 41
  },
  {
   "cell_type": "markdown",
   "source": [
    "# Problem 29 \n",
    "## Distinct Powers"
   ],
   "metadata": {
    "collapsed": false
   },
   "id": "955fdce5f1933b86"
  },
  {
   "cell_type": "code",
   "outputs": [
    {
     "data": {
      "text/plain": "9183"
     },
     "execution_count": 9,
     "metadata": {},
     "output_type": "execute_result"
    }
   ],
   "source": [
    "def Distinctpowers(start_a, finish_a, start_b, finish_b):\n",
    "    \"\"\"\n",
    "    Finding Distinct powers of given numbers at a given range of powers\n",
    "\n",
    "    Args:\n",
    "    start_a (int) : starting numbers of array a\n",
    "    finish_a (int) : ending numbers of array a\n",
    "    start_b (int) : starting numbers of array b\n",
    "    finish_b (int) : ending numbers of array b\n",
    "    \"\"\"\n",
    "    \n",
    "    # creating empty list\n",
    "    empty_list = []\n",
    "    \n",
    "    # creating arrays with given parameters \n",
    "    array_a = np.arange(start_a,finish_a+1, dtype=object)\n",
    "    array_b = np.arange(start_b,finish_b+1, dtype=object)\n",
    "    \n",
    "    # iterating over second array taking its values and powering first array with this number and extending the empty list we previously made, aftr that we save it as a set to remove duplicates. \n",
    "    for i in array_b:\n",
    "        empty_list.extend(array_a**i)\n",
    "    return len(set(empty_list))\n",
    "\n",
    "\n",
    "Distinctpowers(start_a=2,finish_a=100,start_b=2,finish_b=100)\n"
   ],
   "metadata": {
    "collapsed": false,
    "ExecuteTime": {
     "end_time": "2024-06-05T06:34:05.588750700Z",
     "start_time": "2024-06-05T06:34:05.555051800Z"
    }
   },
   "id": "d041d669fe5fb578",
   "execution_count": 9
  },
  {
   "cell_type": "markdown",
   "source": [
    "# Problem 48\n",
    "## Self Powers"
   ],
   "metadata": {
    "collapsed": false
   },
   "id": "c57f8e21b1eed4ee"
  },
  {
   "cell_type": "code",
   "outputs": [
    {
     "name": "stdout",
     "output_type": "stream",
     "text": [
      "9110846700\n"
     ]
    }
   ],
   "source": [
    "# creating array with numbers range from 1 to 1000\n",
    "array_a = np.arange(1,1001, dtype=object)\n",
    "\n",
    "# powering each item of array with the same item (self powers) \n",
    "powered_values = np.power(array_a, array_a)\n",
    "\n",
    "# last 10 digits from sum of self powers\n",
    "print(str(sum(powered_values.tolist()))[-10:])"
   ],
   "metadata": {
    "collapsed": false,
    "ExecuteTime": {
     "end_time": "2024-06-05T06:34:05.623937500Z",
     "start_time": "2024-06-05T06:34:05.570610100Z"
    }
   },
   "id": "282313a06dd64f52",
   "execution_count": 10
  },
  {
   "cell_type": "code",
   "outputs": [],
   "source": [],
   "metadata": {
    "collapsed": false,
    "ExecuteTime": {
     "end_time": "2024-06-05T06:34:05.624937Z",
     "start_time": "2024-06-05T06:34:05.586744500Z"
    }
   },
   "id": "59524322d17218c8",
   "execution_count": 10
  }
 ],
 "metadata": {
  "kernelspec": {
   "display_name": "Python 3",
   "language": "python",
   "name": "python3"
  },
  "language_info": {
   "codemirror_mode": {
    "name": "ipython",
    "version": 2
   },
   "file_extension": ".py",
   "mimetype": "text/x-python",
   "name": "python",
   "nbconvert_exporter": "python",
   "pygments_lexer": "ipython2",
   "version": "2.7.6"
  }
 },
 "nbformat": 4,
 "nbformat_minor": 5
}
