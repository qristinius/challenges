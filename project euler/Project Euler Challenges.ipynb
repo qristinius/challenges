{
 "cells": [
  {
   "cell_type": "code",
   "execution_count": 1,
   "id": "initial_id",
   "metadata": {
    "collapsed": true,
    "ExecuteTime": {
     "end_time": "2024-06-05T06:34:05.241917100Z",
     "start_time": "2024-06-05T06:34:05.133384800Z"
    }
   },
   "outputs": [],
   "source": [
    "import numpy as np"
   ]
  },
  {
   "cell_type": "code",
   "outputs": [
    {
     "name": "stdout",
     "output_type": "stream",
     "text": [
      "233168\n"
     ]
    }
   ],
   "source": [
    "#euler project\n",
    "#project N1\n",
    "\n",
    "num =  0 #variable where I save the added numbers\n",
    "\n",
    "#logics for adding specific numbers to variable \n",
    "for i in range(1000):\n",
    "    if i % 3 == 0 or i % 5 ==0:\n",
    "        num += i   #adding and saving chosen numbers to variable \n",
    "\n",
    "print(num)\n"
   ],
   "metadata": {
    "collapsed": false,
    "ExecuteTime": {
     "end_time": "2024-06-05T06:34:05.255870300Z",
     "start_time": "2024-06-05T06:34:05.247917700Z"
    }
   },
   "id": "121bb3c391ddc63f",
   "execution_count": 2
  },
  {
   "cell_type": "markdown",
   "source": [
    "# Problem 1\n",
    "## Multiples of 3 or 5"
   ],
   "metadata": {
    "collapsed": false
   },
   "id": "767ad3e141e17129"
  },
  {
   "cell_type": "code",
   "outputs": [
    {
     "data": {
      "text/plain": "233168"
     },
     "execution_count": 3,
     "metadata": {},
     "output_type": "execute_result"
    }
   ],
   "source": [
    "def SumOfMultiples(startingpoint = 1, endingpoint = 1000, multiplier1 = 3, multiplier2 = 5 ):\n",
    "    \"\"\"\n",
    "    Finding sum of multiples of 3 or 5\n",
    "\n",
    "    Args:\n",
    "    startingpoint (int) : starting point of the range we are searching sum \n",
    "    endingpoint (int) : ending point of the range we are searching sum \n",
    "    multiplier1 (int) : first multiplier\n",
    "    multiplier2 (int) : second multiplier\n",
    "    \n",
    "    \"\"\"\n",
    "    \n",
    "    # creating matrix with numbers \n",
    "    matrix = np.arange(startingpoint, endingpoint)\n",
    "    \n",
    "    # filter\n",
    "    mask = (matrix % multiplier1 == 0) | (matrix % multiplier2 == 0)\n",
    "    \n",
    "    # returning filtered matrix sum, firstly converting it in list to avoid overloading numpy\n",
    "    return sum(matrix[mask].tolist())\n",
    "\n",
    "SumOfMultiples(1,1000,3,5)"
   ],
   "metadata": {
    "collapsed": false,
    "ExecuteTime": {
     "end_time": "2024-06-05T06:34:05.330966800Z",
     "start_time": "2024-06-05T06:34:05.257872700Z"
    }
   },
   "id": "36bca6231f6a65dd",
   "execution_count": 3
  },
  {
   "cell_type": "markdown",
   "source": [
    "# Problem 2\n",
    "## Even Fibonacci Numbers"
   ],
   "metadata": {
    "collapsed": false
   },
   "id": "d13991893fb9bc27"
  },
  {
   "cell_type": "code",
   "outputs": [
    {
     "data": {
      "text/plain": "4613732"
     },
     "execution_count": 4,
     "metadata": {},
     "output_type": "execute_result"
    }
   ],
   "source": [
    "def EvenFibonacci(n=4_000_000):\n",
    "    \"\"\"\n",
    "    Finding sum of even fibonacci numbers with upper boundary\n",
    "    \n",
    "    Args:\n",
    "    n (int) : upper boundary\n",
    "\n",
    "    \"\"\"\n",
    "\n",
    "\n",
    "    # list with first two items of fibonacci numbers\n",
    "    fib = [0,1]\n",
    "    \n",
    "    \n",
    "    # while the last number is less than the upper boundary it will continue adding to list\n",
    "    while fib[-1] +fib[-2] < n:\n",
    "        fib.append(fib[-1] + fib[-2])\n",
    "    \n",
    "    # transforming it into array\n",
    "    fibonaccy_array = np.array(fib)\n",
    "    \n",
    "    # create filter to get even numbers\n",
    "    mask = (fibonaccy_array % 2 == 0)\n",
    "    \n",
    "    # returning sum of even fibonacci numbers \n",
    "    return sum(fibonaccy_array[mask].tolist())\n",
    "\n",
    "EvenFibonacci()"
   ],
   "metadata": {
    "collapsed": false,
    "ExecuteTime": {
     "end_time": "2024-06-05T06:34:05.332055300Z",
     "start_time": "2024-06-05T06:34:05.270863100Z"
    }
   },
   "id": "95e0d4760c0c1d0c",
   "execution_count": 4
  },
  {
   "cell_type": "markdown",
   "source": [
    "# Problem 4\n",
    "## Largest Palindrome Product"
   ],
   "metadata": {
    "collapsed": false
   },
   "id": "99f716b95979576d"
  },
  {
   "cell_type": "code",
   "outputs": [
    {
     "data": {
      "text/plain": "906609"
     },
     "execution_count": 5,
     "metadata": {},
     "output_type": "execute_result"
    }
   ],
   "source": [
    "def MaxPalindromes(start=100, end=1000):\n",
    "    \"\"\"\n",
    "    Finding Maximum Palindrome from specific range \n",
    "    \n",
    "    Args:\n",
    "    start (int) : lower boundary \n",
    "    end (int) : upper boundary\n",
    "\n",
    "    \"\"\"\n",
    "    \n",
    "    # empty list\n",
    "    palindromes = []\n",
    "    \n",
    "    # finding palinderomes in range and appending it to list \n",
    "    for i in range(start,end):\n",
    "        for j in range(start,end):\n",
    "            if str(i*j) == str(i*j)[::-1]:\n",
    "                palindromes.append(i*j)\n",
    "    \n",
    "    # returning max value of it \n",
    "    return max(palindromes)\n",
    "\n",
    "MaxPalindromes()"
   ],
   "metadata": {
    "collapsed": false,
    "ExecuteTime": {
     "end_time": "2024-06-05T06:34:05.488815900Z",
     "start_time": "2024-06-05T06:34:05.289417200Z"
    }
   },
   "id": "a745269e53dd9fd",
   "execution_count": 5
  },
  {
   "cell_type": "markdown",
   "source": [
    "# Problem 6\n",
    "## Sum Square Difference"
   ],
   "metadata": {
    "collapsed": false
   },
   "id": "a2991f3cce6fe81f"
  },
  {
   "cell_type": "code",
   "outputs": [
    {
     "data": {
      "text/plain": "25164150"
     },
     "execution_count": 6,
     "metadata": {},
     "output_type": "execute_result"
    }
   ],
   "source": [
    "def SumSquareDiff(range_arr=[1,101]):\n",
    "    \"\"\"\n",
    "    Finding Substraction of sum of squared array items and square of summed items\n",
    "    \n",
    "    Args:\n",
    "    range_arr (list) : list containging 2 items firts is lower boundary of range and second is upper boundary on range\n",
    "\n",
    "    \"\"\" \n",
    "    # arranging array\n",
    "    arr = np.arange(range_arr[0], range_arr[1])\n",
    "    \n",
    "    # returning the value\n",
    "    return (sum(arr.tolist())**2) - sum((arr**2).tolist())\n",
    "\n",
    "SumSquareDiff()"
   ],
   "metadata": {
    "collapsed": false,
    "ExecuteTime": {
     "end_time": "2024-06-05T06:34:05.500251600Z",
     "start_time": "2024-06-05T06:34:05.487815400Z"
    }
   },
   "id": "7857e60e9331fd",
   "execution_count": 6
  },
  {
   "cell_type": "markdown",
   "source": [
    "# Problem 8\n",
    "## Largest Product in a Series\n",
    "## not done\n"
   ],
   "metadata": {
    "collapsed": false
   },
   "id": "519a4ee2ccaa37b9"
  },
  {
   "cell_type": "code",
   "outputs": [],
   "source": [],
   "metadata": {
    "collapsed": false,
    "ExecuteTime": {
     "end_time": "2024-06-05T06:34:05.501246700Z",
     "start_time": "2024-06-05T06:34:05.496264600Z"
    }
   },
   "id": "5d906a22a49eeeee",
   "execution_count": 6
  },
  {
   "cell_type": "markdown",
   "source": [
    "# Problem 16\n",
    "## Power Digit Sum"
   ],
   "metadata": {
    "collapsed": false
   },
   "id": "2635ab076e5d2144"
  },
  {
   "cell_type": "code",
   "outputs": [
    {
     "name": "stdout",
     "output_type": "stream",
     "text": [
      "The sum of powered number digits is: 1366\n"
     ]
    }
   ],
   "source": [
    "def PowSum(num,power):\n",
    "    \"\"\"\n",
    "    Powering the number and summing up each digits of result number\n",
    "\n",
    "    Args:\n",
    "        num (int) : number that should get powered\n",
    "        power (int) : power of number\n",
    "    \"\"\"\n",
    "    \n",
    "    print(f'The sum of powered number digits is: {sum([int(digit) for digit in str(num**power)])}')\n",
    "\n",
    "PowSum(2,1000)\n",
    "    "
   ],
   "metadata": {
    "collapsed": false,
    "ExecuteTime": {
     "end_time": "2024-06-05T06:34:05.515539300Z",
     "start_time": "2024-06-05T06:34:05.504248Z"
    }
   },
   "id": "6290d16703ea833f",
   "execution_count": 7
  },
  {
   "cell_type": "markdown",
   "source": [
    "# Problem 25\n",
    "## 1000-digit Fibonacci Number"
   ],
   "metadata": {
    "collapsed": false
   },
   "id": "71bb85c7e5891794"
  },
  {
   "cell_type": "code",
   "outputs": [
    {
     "name": "stdout",
     "output_type": "stream",
     "text": [
      "Length of sequence:4782, Index of 1000 digits number:4781\n"
     ]
    }
   ],
   "source": [
    "fib = [1,1]\n",
    "\n",
    "# while the length of the last number of fibonacci sequence is 1000 the loop continues and we find the index of it \n",
    "while len(str(fib[-1]))!=1000:\n",
    "    fib.append(fib[-1] + fib[-2])\n",
    "\n",
    "print(f'Length of sequence:{len(fib)}, Index of 1000 digits number:{fib.index(max(fib))}')\n"
   ],
   "metadata": {
    "collapsed": false,
    "ExecuteTime": {
     "end_time": "2024-06-05T06:34:05.587756100Z",
     "start_time": "2024-06-05T06:34:05.512552300Z"
    }
   },
   "id": "c25f61d4f0f22a06",
   "execution_count": 8
  },
  {
   "cell_type": "markdown",
   "source": [
    "# Problem 29 \n",
    "## Distinct Powers"
   ],
   "metadata": {
    "collapsed": false
   },
   "id": "955fdce5f1933b86"
  },
  {
   "cell_type": "code",
   "outputs": [
    {
     "data": {
      "text/plain": "9183"
     },
     "execution_count": 9,
     "metadata": {},
     "output_type": "execute_result"
    }
   ],
   "source": [
    "def Distinctpowers(start_a, finish_a, start_b, finish_b):\n",
    "    \"\"\"\n",
    "    Finding Distinct powers of given numbers at a given range of powers\n",
    "\n",
    "    Args:\n",
    "    start_a (int) : starting numbers of array a\n",
    "    finish_a (int) : ending numbers of array a\n",
    "    start_b (int) : starting numbers of array b\n",
    "    finish_b (int) : ending numbers of array b\n",
    "    \"\"\"\n",
    "    \n",
    "    # creating empty list\n",
    "    empty_list = []\n",
    "    \n",
    "    # creating arrays with given parameters \n",
    "    array_a = np.arange(start_a,finish_a+1, dtype=object)\n",
    "    array_b = np.arange(start_b,finish_b+1, dtype=object)\n",
    "    \n",
    "    # iterating over second array taking its values and powering first array with this number and extending the empty list we previously made, aftr that we save it as a set to remove duplicates. \n",
    "    for i in array_b:\n",
    "        empty_list.extend(array_a**i)\n",
    "    return len(set(empty_list))\n",
    "\n",
    "\n",
    "Distinctpowers(start_a=2,finish_a=100,start_b=2,finish_b=100)\n"
   ],
   "metadata": {
    "collapsed": false,
    "ExecuteTime": {
     "end_time": "2024-06-05T06:34:05.588750700Z",
     "start_time": "2024-06-05T06:34:05.555051800Z"
    }
   },
   "id": "d041d669fe5fb578",
   "execution_count": 9
  },
  {
   "cell_type": "markdown",
   "source": [
    "# Problem 48\n",
    "## Self Powers"
   ],
   "metadata": {
    "collapsed": false
   },
   "id": "c57f8e21b1eed4ee"
  },
  {
   "cell_type": "code",
   "outputs": [
    {
     "name": "stdout",
     "output_type": "stream",
     "text": [
      "9110846700\n"
     ]
    }
   ],
   "source": [
    "# creating array with numbers range from 1 to 1000\n",
    "array_a = np.arange(1,1001, dtype=object)\n",
    "\n",
    "# powering each item of array with the same item (self powers) \n",
    "powered_values = np.power(array_a, array_a)\n",
    "\n",
    "# last 10 digits from sum of self powers\n",
    "print(str(sum(powered_values.tolist()))[-10:])"
   ],
   "metadata": {
    "collapsed": false,
    "ExecuteTime": {
     "end_time": "2024-06-05T06:34:05.623937500Z",
     "start_time": "2024-06-05T06:34:05.570610100Z"
    }
   },
   "id": "282313a06dd64f52",
   "execution_count": 10
  },
  {
   "cell_type": "code",
   "outputs": [],
   "source": [],
   "metadata": {
    "collapsed": false,
    "ExecuteTime": {
     "end_time": "2024-06-05T06:34:05.624937Z",
     "start_time": "2024-06-05T06:34:05.586744500Z"
    }
   },
   "id": "59524322d17218c8",
   "execution_count": 10
  }
 ],
 "metadata": {
  "kernelspec": {
   "display_name": "Python 3",
   "language": "python",
   "name": "python3"
  },
  "language_info": {
   "codemirror_mode": {
    "name": "ipython",
    "version": 2
   },
   "file_extension": ".py",
   "mimetype": "text/x-python",
   "name": "python",
   "nbconvert_exporter": "python",
   "pygments_lexer": "ipython2",
   "version": "2.7.6"
  }
 },
 "nbformat": 4,
 "nbformat_minor": 5
}
