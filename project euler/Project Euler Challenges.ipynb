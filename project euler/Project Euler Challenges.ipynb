{
 "cells": [
  {
   "cell_type": "code",
   "execution_count": 2,
   "id": "initial_id",
   "metadata": {
    "collapsed": true,
    "ExecuteTime": {
     "end_time": "2024-08-06T07:22:41.275347400Z",
     "start_time": "2024-08-06T07:22:41.164718300Z"
    }
   },
   "outputs": [],
   "source": [
    "import numpy as np\n",
    "import math as m "
   ]
  },
  {
   "cell_type": "code",
   "outputs": [],
   "source": [
    "# Color variables and  Resetting \n",
    "\n",
    "\n",
    "\n",
    "PINK = '\\033[95m'\n",
    "BLUE = '\\033[94m'\n",
    "GREEN = '\\033[92m'\n",
    "YELLOW = '\\033[93m'\n",
    "RED = '\\033[91m'\n",
    "MAGENTA = '\\033[35m'\n",
    "CYAN = '\\033[36m'\n",
    "RESET = '\\033[0m'"
   ],
   "metadata": {
    "collapsed": false
   },
   "id": "61ec9e6a6a505dff",
   "execution_count": null
  },
  {
   "cell_type": "code",
   "outputs": [],
   "source": [
    "#euler project\n",
    "#project N1\n",
    "\n",
    "num =  0 #variable where I save the added numbers\n",
    "\n",
    "#logics for adding specific numbers to variable \n",
    "for i in range(1000):\n",
    "    if i % 3 == 0 or i % 5 ==0:\n",
    "        num += i   #adding and saving chosen numbers to variable \n",
    "\n",
    "print(num)\n",
    "\n",
    "\n"
   ],
   "metadata": {
    "collapsed": false
   },
   "id": "121bb3c391ddc63f",
   "execution_count": null
  },
  {
   "cell_type": "markdown",
   "source": [
    "# Problem 1\n",
    "## Multiples of 3 or 5"
   ],
   "metadata": {
    "collapsed": false
   },
   "id": "767ad3e141e17129"
  },
  {
   "cell_type": "code",
   "outputs": [],
   "source": [
    "def SumOfMultiples(startingpoint = 1, endingpoint = 1000, multiplier1 = 3, multiplier2 = 5 ):\n",
    "    \"\"\"\n",
    "    Finding sum of multiples of 3 or 5\n",
    "\n",
    "    Args:\n",
    "    startingpoint (int) : starting point of the range we are searching sum \n",
    "    endingpoint (int) : ending point of the range we are searching sum \n",
    "    multiplier1 (int) : first multiplier\n",
    "    multiplier2 (int) : second multiplier\n",
    "    \n",
    "    \"\"\"\n",
    "    \n",
    "    # creating matrix with numbers \n",
    "    matrix = np.arange(startingpoint, endingpoint)\n",
    "    \n",
    "    # filter\n",
    "    mask = (matrix % multiplier1 == 0) | (matrix % multiplier2 == 0)\n",
    "    \n",
    "    # returning filtered matrix sum, firstly converting it in list to avoid overloading numpy\n",
    "    return sum(matrix[mask].tolist())\n",
    "\n",
    "SumOfMultiples(1,1000,3,5)"
   ],
   "metadata": {
    "collapsed": false
   },
   "id": "36bca6231f6a65dd",
   "execution_count": null
  },
  {
   "cell_type": "markdown",
   "source": [
    "# Problem 2\n",
    "## Even Fibonacci Numbers"
   ],
   "metadata": {
    "collapsed": false
   },
   "id": "d13991893fb9bc27"
  },
  {
   "cell_type": "code",
   "outputs": [],
   "source": [
    "def EvenFibonacci(n=4_000_000):\n",
    "    \"\"\"\n",
    "    Finding sum of even fibonacci numbers with upper boundary\n",
    "    \n",
    "    Args:\n",
    "    n (int) : upper boundary\n",
    "\n",
    "    \"\"\"\n",
    "\n",
    "\n",
    "    # list with first two items of fibonacci numbers\n",
    "    fib = [0,1]\n",
    "    \n",
    "    \n",
    "    # while the last number is less than the upper boundary it will continue adding to list\n",
    "    while fib[-1] +fib[-2] < n:\n",
    "        fib.append(fib[-1] + fib[-2])\n",
    "    \n",
    "    # transforming it into array\n",
    "    fibonaccy_array = np.array(fib)\n",
    "    \n",
    "    # create filter to get even numbers\n",
    "    mask = (fibonaccy_array % 2 == 0)\n",
    "    \n",
    "    # returning sum of even fibonacci numbers \n",
    "    return sum(fibonaccy_array[mask].tolist())\n",
    "\n",
    "EvenFibonacci()"
   ],
   "metadata": {
    "collapsed": false
   },
   "id": "95e0d4760c0c1d0c",
   "execution_count": null
  },
  {
   "cell_type": "markdown",
   "source": [
    "# Problem 3\n",
    "## Largest Prime Factor"
   ],
   "metadata": {
    "collapsed": false
   },
   "id": "292c4ddd707abf2"
  },
  {
   "cell_type": "code",
   "outputs": [],
   "source": [
    "# the number that I want the prime factors of \n",
    "num = 600851475143\n",
    "\n",
    "# empty list that I want to add prime factors \n",
    "factors_of_num = []\n",
    "\n",
    "#logics for adding info in list\n",
    "while True:\n",
    "    # the action happens in range of 2 and the presented number \n",
    "    for i in range (2,int(num)+1): \n",
    "        if num % i == 0 :\n",
    "            # appends the list the number that is factor of the presented number\n",
    "            factors_of_num.append(i)\n",
    "            # divide the previous number on it's factor and rewrite it in \"num\" variable \n",
    "            num = num/i\n",
    "            # breaks the for cycle and restarts for new divided number form first i to up \n",
    "            break \n",
    "    if num == 1:\n",
    "        # when the lastly divided numbers is equal to 1 the while loop cycle breaks\n",
    "        break     \n",
    "\n",
    "print(max(factors_of_num))"
   ],
   "metadata": {
    "collapsed": false
   },
   "id": "2ade7dd7aab70bb",
   "execution_count": null
  },
  {
   "cell_type": "markdown",
   "source": [
    "# Problem 4\n",
    "## Largest Palindrome Product"
   ],
   "metadata": {
    "collapsed": false
   },
   "id": "99f716b95979576d"
  },
  {
   "cell_type": "code",
   "outputs": [],
   "source": [
    "def MaxPalindromes(start=100, end=1000):\n",
    "    \"\"\"\n",
    "    Finding Maximum Palindrome from specific range \n",
    "    \n",
    "    Args:\n",
    "    start (int) : lower boundary \n",
    "    end (int) : upper boundary\n",
    "\n",
    "    \"\"\"\n",
    "    \n",
    "    # empty list\n",
    "    palindromes = []\n",
    "    \n",
    "    # finding palinderomes in range and appending it to list \n",
    "    for i in range(start,end):\n",
    "        for j in range(start,end):\n",
    "            if str(i*j) == str(i*j)[::-1]:\n",
    "                palindromes.append(i*j)\n",
    "    \n",
    "    # returning max value of it \n",
    "    return max(palindromes)\n",
    "\n",
    "MaxPalindromes()"
   ],
   "metadata": {
    "collapsed": false
   },
   "id": "a745269e53dd9fd",
   "execution_count": null
  },
  {
   "cell_type": "markdown",
   "source": [
    "# Problem 5 \n",
    "## Smallest Multiple"
   ],
   "metadata": {
    "collapsed": false
   },
   "id": "1623201f0d54fa8b"
  },
  {
   "cell_type": "code",
   "outputs": [],
   "source": [
    "# checks if passed number is divisble by all the numbers in given problem \n",
    "def Divisible(num, start=1, end=20):\n",
    "    for i in range(start,end+1):\n",
    "        if num%i != 0:\n",
    "            return False\n",
    "    return True\n",
    "\n",
    "num = 1 \n",
    "# if Divisible function returns true it will break and we will get the number else it adds num 1 till we get the\n",
    "# value we want\n",
    "while True:\n",
    "    if Divisible(num):\n",
    "        break\n",
    "    num+=1\n",
    "print(num)\n"
   ],
   "metadata": {
    "collapsed": false
   },
   "id": "e9092f84ff845f9d",
   "execution_count": null
  },
  {
   "cell_type": "markdown",
   "source": [
    "# Problem 6\n",
    "## Sum Square Difference"
   ],
   "metadata": {
    "collapsed": false
   },
   "id": "a2991f3cce6fe81f"
  },
  {
   "cell_type": "code",
   "outputs": [],
   "source": [
    "def SumSquareDiff(range_arr=[1,101]):\n",
    "    \"\"\"\n",
    "    Finding Substraction of sum of squared array items and square of summed items\n",
    "    \n",
    "    Args:\n",
    "    range_arr (list) : list containging 2 items firts is lower boundary of range and second is upper boundary on range\n",
    "\n",
    "    \"\"\" \n",
    "    # arranging array\n",
    "    arr = np.arange(range_arr[0], range_arr[1])\n",
    "    \n",
    "    # returning the value\n",
    "    return (sum(arr.tolist())**2) - sum((arr**2).tolist())\n",
    "\n",
    "SumSquareDiff()"
   ],
   "metadata": {
    "collapsed": false
   },
   "id": "7857e60e9331fd",
   "execution_count": null
  },
  {
   "cell_type": "markdown",
   "source": [
    "# Problem 7\n",
    "## 10001st Prime"
   ],
   "metadata": {
    "collapsed": false
   },
   "id": "1bfe8d9e89f6de18"
  },
  {
   "cell_type": "code",
   "outputs": [],
   "source": [
    "def nthprime(nthnum):\n",
    "    \"\"\"\n",
    "    Finding nth prime number\n",
    "    \n",
    "    Args:\n",
    "    nthnum (int) : nth prime number we are searching for\n",
    "    \n",
    "    \"\"\"\n",
    "    # list made from only 1st prime number later will get added\n",
    "    primelist = [2]\n",
    "    \n",
    "    # first prime number\n",
    "    prime = 2\n",
    "    \n",
    "    # ensuring that we get that number of answers as we want\n",
    "    while len(primelist) < nthnum:\n",
    "        \n",
    "        # increasing value of prime by one for each loop \n",
    "        prime+=1\n",
    "        \n",
    "        # number that will help us find primes \n",
    "        num = 0\n",
    "        \n",
    "        # iterating over integered square roots of primes + 1 to include last number too. \n",
    "        # that is because when factorising after we cross square root number we get same multiples of numbers \n",
    "        # like 2*12,12*2\n",
    "        for i in range(2, int(m.sqrt(prime)+1)):\n",
    "            \n",
    "            # if value of prime variable is divided by any of those numbers then it isn't prime number\n",
    "            # so we just increase num value by 1 \n",
    "            if prime%i == 0:\n",
    "                num +=1\n",
    "        # if previous if logic wasn't satisfied it means num value stays 0\n",
    "        # and it is prime number so we add that number in our very first list\n",
    "        if num == 0:\n",
    "            primelist.append(prime)\n",
    "    # print lastest item from list\n",
    "    print(primelist[-1])\n",
    "    \n",
    "nthprime(10001)\n"
   ],
   "metadata": {
    "collapsed": false
   },
   "id": "8aa138a84f08010b",
   "execution_count": null
  },
  {
   "cell_type": "markdown",
   "source": [
    "# Problem 9\n",
    "## Special Pythagorean Triplet"
   ],
   "metadata": {
    "collapsed": false
   },
   "id": "bba69b3242896d66"
  },
  {
   "cell_type": "code",
   "outputs": [],
   "source": [
    "# iterating over 1-1000 for a,b \n",
    "for a in range(1,1000):\n",
    "    for b in range(1,1000):\n",
    "        # as task says a<b so it will stop loop when a > b\n",
    "        if a<b:\n",
    "            # finding c and product of abc\n",
    "            c = 1000-a-b\n",
    "            if a + b + c == 1000 and (a**2) + (b**2) == (c**2):\n",
    "                print(f'This is product of abc: {a*b*c}, {a},{b},{c}')"
   ],
   "metadata": {
    "collapsed": false
   },
   "id": "e4305e393cb47235",
   "execution_count": null
  },
  {
   "cell_type": "markdown",
   "source": [
    "# Problem 10 \n",
    "## Summation of Primes"
   ],
   "metadata": {
    "collapsed": false
   },
   "id": "6f9d7540819c4ddb"
  },
  {
   "cell_type": "code",
   "outputs": [],
   "source": [
    "# list where we save prime numbers\n",
    "lstprimes = []\n",
    "\n",
    "# first iterating over given value excluding 1 cause it isn't prime \n",
    "for num in range(2_000_000, 1, -1):\n",
    "    # variable that determines if we include number as prime or not \n",
    "    include = True\n",
    "    \n",
    "    # iterating over divisor for each number\n",
    "    # iterating over integered square roots of primes + 1 to include last number too. \n",
    "    # that is because when factorising after we cross square root number we get same multiples of numbers \n",
    "    # like 2*12,12*2\n",
    "    for divisor in range(2, int(m.sqrt(num)) + 1):\n",
    "        \n",
    "        # if number is divided by any of divisor it gets excluded \n",
    "        if num % divisor == 0:\n",
    "            include = False\n",
    "            break\n",
    "    # if include is True then we append that number for which is include True in previusly made list\n",
    "    if include:\n",
    "        lstprimes.append(num)\n",
    "\n",
    "# printing sum of list\n",
    "print(sum(lstprimes))"
   ],
   "metadata": {
    "collapsed": false
   },
   "id": "d162ec78da4da125",
   "execution_count": null
  },
  {
   "cell_type": "markdown",
   "source": [
    "# Problem 15\n",
    "## Lattice Paths"
   ],
   "metadata": {
    "collapsed": false
   },
   "id": "e5179bf50e2ce7f4"
  },
  {
   "cell_type": "code",
   "outputs": [],
   "source": [
    "def finding_unique_route(grid):\n",
    "    # formula for combinatorics that counts unique ways to move from upper left corner\n",
    "    # of the grid to the rightermost\n",
    "    routenum = int((m.factorial(2*grid))/(m.factorial(grid) * m.factorial(grid)))\n",
    "    return routenum\n",
    "\n",
    "finding_unique_route(20)"
   ],
   "metadata": {
    "collapsed": false
   },
   "id": "63e35088617f2f99",
   "execution_count": null
  },
  {
   "cell_type": "markdown",
   "source": [
    "# Problem 16\n",
    "## Power Digit Sum"
   ],
   "metadata": {
    "collapsed": false
   },
   "id": "2635ab076e5d2144"
  },
  {
   "cell_type": "code",
   "outputs": [],
   "source": [
    "def PowSum(num,power):\n",
    "    \"\"\"\n",
    "    Powering the number and summing up each digits of result number\n",
    "\n",
    "    Args:\n",
    "        num (int) : number that should get powered\n",
    "        power (int) : power of number\n",
    "    \"\"\"\n",
    "    \n",
    "    print(f'The sum of powered number digits is: {sum([int(digit) for digit in str(num**power)])}')\n",
    "\n",
    "PowSum(2,1000)\n",
    "    "
   ],
   "metadata": {
    "collapsed": false
   },
   "id": "6290d16703ea833f",
   "execution_count": null
  },
  {
   "cell_type": "markdown",
   "source": [
    "# Problem 20\n",
    "## Factorial Digit Sum"
   ],
   "metadata": {
    "collapsed": false
   },
   "id": "668dd4003c5d4b00"
  },
  {
   "cell_type": "code",
   "outputs": [],
   "source": [
    "def sum_of_factorial(num):\n",
    "    \"\"\"\n",
    "    Finding sum of num's factorial's each numbers\n",
    "    \n",
    "    Args:\n",
    "        num (int) : number which factorial's sum of numbers we are searching\n",
    "    \"\"\"\n",
    "    fact = m.factorial(num)\n",
    "    lstofnum = [int(i) for i in str(fact)]\n",
    "    return sum(lstofnum)\n",
    "    \n",
    "sum_of_factorial(100)"
   ],
   "metadata": {
    "collapsed": false
   },
   "id": "6e13b1760f3595a4",
   "execution_count": null
  },
  {
   "cell_type": "markdown",
   "source": [
    "# Problem 21\n",
    "## Amicable Numbers"
   ],
   "metadata": {
    "collapsed": false
   },
   "id": "a7cbe2cbf9559d56"
  },
  {
   "cell_type": "code",
   "outputs": [
    {
     "data": {
      "text/plain": "31626"
     },
     "execution_count": 19,
     "metadata": {},
     "output_type": "execute_result"
    }
   ],
   "source": [
    "def d(n):\n",
    "    \"\"\"\n",
    "    Finding sum of proper divisors\n",
    "    \n",
    "    Args:\n",
    "        n (int) : number of which divisors we are searching\n",
    "    \"\"\"\n",
    "    num = 1\n",
    "    # iterating over sqrt and then adding the other part of multiple it gives us (shortening for loop) \n",
    "    for i in range(2,int(m.sqrt(n))+1):\n",
    "        if n%i==0:\n",
    "            num+=i\n",
    "            j = n//i\n",
    "            if j > i: \n",
    "                num +=j\n",
    "    return num\n",
    "\n",
    "# this takes much more time \n",
    "# amicable_nums  = set()\n",
    "# for i in range(1,10000):\n",
    "#     for j in range(i+1,10000):\n",
    "#         if d(i) == j and d(j) == i:\n",
    "#             amicable_nums.update([i, j])\n",
    " \n",
    "# sum(amicable_nums)\n",
    "\n",
    "\n",
    "# optimal version \n",
    "answer = []\n",
    "\n",
    "# iterating over numbers to find sum of amicable numbers\n",
    "for i in range (1,10_000):    \n",
    "    # denoting sum of proper divisors for each number\n",
    "    amicable1  = d(i)    \n",
    "    \n",
    "    # denoting sum of proper divisors for amicable1\n",
    "    amicable2 = d(amicable1)\n",
    "    \n",
    "    # logical boundaries: \n",
    "    if i == amicable2 and amicable2 != amicable1:\n",
    "        answer.append(i)\n",
    " \n",
    "sum(answer)\n"
   ],
   "metadata": {
    "collapsed": false,
    "ExecuteTime": {
     "end_time": "2024-08-06T08:07:37.310101300Z",
     "start_time": "2024-08-06T08:07:37.249151400Z"
    }
   },
   "id": "e39e818e872e2f62",
   "execution_count": 19
  },
  {
   "cell_type": "markdown",
   "source": [
    "# Problem 25\n",
    "## 1000-digit Fibonacci Number"
   ],
   "metadata": {
    "collapsed": false
   },
   "id": "71bb85c7e5891794"
  },
  {
   "cell_type": "code",
   "outputs": [],
   "source": [
    "fib = [1,1]\n",
    "# while the length of the last number of fibonacci sequence is 1000 the loop continues and we find the index of it \n",
    "while len(str(fib[-1]))!=1000:\n",
    "    fib.append(fib[-1] + fib[-2])\n",
    "\n",
    "print(f'Index of 1000 digits number:{len(fib)}')\n"
   ],
   "metadata": {
    "collapsed": false
   },
   "id": "c25f61d4f0f22a06",
   "execution_count": null
  },
  {
   "cell_type": "markdown",
   "source": [
    "# Problem 29 \n",
    "## Distinct Powers"
   ],
   "metadata": {
    "collapsed": false
   },
   "id": "955fdce5f1933b86"
  },
  {
   "cell_type": "code",
   "outputs": [],
   "source": [
    "def Distinctpowers(start_a, finish_a, start_b, finish_b):\n",
    "    \"\"\"\n",
    "    Finding Distinct powers of given numbers at a given range of powers\n",
    "\n",
    "    Args:\n",
    "    start_a (int) : starting numbers of array a\n",
    "    finish_a (int) : ending numbers of array a\n",
    "    start_b (int) : starting numbers of array b\n",
    "    finish_b (int) : ending numbers of array b\n",
    "    \"\"\"\n",
    "    \n",
    "    # creating empty list\n",
    "    empty_list = []\n",
    "    \n",
    "    # creating arrays with given parameters \n",
    "    array_a = np.arange(start_a,finish_a+1, dtype=object)\n",
    "    array_b = np.arange(start_b,finish_b+1, dtype=object)\n",
    "    \n",
    "    # iterating over second array taking its values and powering first array with this number and extending the empty list we previously made, aftr that we save it as a set to remove duplicates. \n",
    "    for i in array_b:\n",
    "        empty_list.extend(array_a**i)\n",
    "    return len(set(empty_list))\n",
    "\n",
    "\n",
    "Distinctpowers(start_a=2,finish_a=100,start_b=2,finish_b=100)\n"
   ],
   "metadata": {
    "collapsed": false
   },
   "id": "d041d669fe5fb578",
   "execution_count": null
  },
  {
   "cell_type": "markdown",
   "source": [
    "# Problem 48\n",
    "## Self Powers"
   ],
   "metadata": {
    "collapsed": false
   },
   "id": "c57f8e21b1eed4ee"
  },
  {
   "cell_type": "code",
   "outputs": [],
   "source": [
    "# creating array with numbers range from 1 to 1000\n",
    "array_a = np.arange(1,1001, dtype=object)\n",
    "\n",
    "# powering each item of array with the same item (self powers) \n",
    "powered_values = np.power(array_a, array_a)\n",
    "\n",
    "# last 10 digits from sum of self powers\n",
    "print(str(sum(powered_values.tolist()))[-10:])"
   ],
   "metadata": {
    "collapsed": false
   },
   "id": "282313a06dd64f52",
   "execution_count": null
  },
  {
   "cell_type": "code",
   "outputs": [],
   "source": [],
   "metadata": {
    "collapsed": false
   },
   "id": "59524322d17218c8",
   "execution_count": null
  },
  {
   "cell_type": "code",
   "outputs": [],
   "source": [],
   "metadata": {
    "collapsed": false
   },
   "id": "85872ec427cef6e8"
  }
 ],
 "metadata": {
  "kernelspec": {
   "display_name": "Python 3",
   "language": "python",
   "name": "python3"
  },
  "language_info": {
   "codemirror_mode": {
    "name": "ipython",
    "version": 2
   },
   "file_extension": ".py",
   "mimetype": "text/x-python",
   "name": "python",
   "nbconvert_exporter": "python",
   "pygments_lexer": "ipython2",
   "version": "2.7.6"
  }
 },
 "nbformat": 4,
 "nbformat_minor": 5
}
